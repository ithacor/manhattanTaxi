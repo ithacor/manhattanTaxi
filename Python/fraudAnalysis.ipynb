{
 "cells": [
  {
   "cell_type": "code",
   "execution_count": 38,
   "metadata": {
    "collapsed": false
   },
   "outputs": [
    {
     "data": {
      "text/html": [
       "<div>\n",
       "<table border=\"1\" class=\"dataframe\">\n",
       "  <thead>\n",
       "    <tr style=\"text-align: right;\">\n",
       "      <th></th>\n",
       "      <th>d_medallion</th>\n",
       "      <th>d_hack_license</th>\n",
       "      <th>d_vendor_id</th>\n",
       "      <th>d_rate_code</th>\n",
       "      <th>d_store_and_fwd_flag</th>\n",
       "      <th>d_pickup_datetime</th>\n",
       "      <th>d_dropoff_datetime</th>\n",
       "      <th>d_passenger_count</th>\n",
       "      <th>d_trip_time_in_secs</th>\n",
       "      <th>d_trip_distance</th>\n",
       "      <th>...</th>\n",
       "      <th>f_hack_license</th>\n",
       "      <th>f_vendor_id</th>\n",
       "      <th>f_pickup_datetime</th>\n",
       "      <th>f_payment_type</th>\n",
       "      <th>f_fare_amount</th>\n",
       "      <th>f_surcharge</th>\n",
       "      <th>f_mta_tax</th>\n",
       "      <th>f_tip_amount</th>\n",
       "      <th>f_tolls_amount</th>\n",
       "      <th>f_total_amount</th>\n",
       "    </tr>\n",
       "  </thead>\n",
       "  <tbody>\n",
       "    <tr>\n",
       "      <th>0</th>\n",
       "      <td>FFD1575DA3F4DB85CCEC9FFBEAE16AEF</td>\n",
       "      <td>44F1D8A999F6FE1AFC854CEA5CB83BBD</td>\n",
       "      <td>VTS</td>\n",
       "      <td>2</td>\n",
       "      <td>null</td>\n",
       "      <td>2013-12-19 19:43:00</td>\n",
       "      <td>2013-12-19 20:49:00</td>\n",
       "      <td>1</td>\n",
       "      <td>3960</td>\n",
       "      <td>15.67</td>\n",
       "      <td>...</td>\n",
       "      <td>44F1D8A999F6FE1AFC854CEA5CB83BBD</td>\n",
       "      <td>VTS</td>\n",
       "      <td>2013-12-19 19:43:00</td>\n",
       "      <td>CRD</td>\n",
       "      <td>52</td>\n",
       "      <td>0</td>\n",
       "      <td>0.5</td>\n",
       "      <td>5</td>\n",
       "      <td>0</td>\n",
       "      <td>57.5</td>\n",
       "    </tr>\n",
       "  </tbody>\n",
       "</table>\n",
       "<p>1 rows × 25 columns</p>\n",
       "</div>"
      ],
      "text/plain": [
       "                        d_medallion                    d_hack_license  \\\n",
       "0  FFD1575DA3F4DB85CCEC9FFBEAE16AEF  44F1D8A999F6FE1AFC854CEA5CB83BBD   \n",
       "\n",
       "  d_vendor_id  d_rate_code d_store_and_fwd_flag    d_pickup_datetime  \\\n",
       "0         VTS            2                 null  2013-12-19 19:43:00   \n",
       "\n",
       "    d_dropoff_datetime  d_passenger_count  d_trip_time_in_secs  \\\n",
       "0  2013-12-19 20:49:00                  1                 3960   \n",
       "\n",
       "   d_trip_distance       ...                          f_hack_license  \\\n",
       "0            15.67       ...        44F1D8A999F6FE1AFC854CEA5CB83BBD   \n",
       "\n",
       "   f_vendor_id    f_pickup_datetime  f_payment_type f_fare_amount f_surcharge  \\\n",
       "0          VTS  2013-12-19 19:43:00             CRD            52           0   \n",
       "\n",
       "  f_mta_tax f_tip_amount f_tolls_amount  f_total_amount  \n",
       "0       0.5            5              0            57.5  \n",
       "\n",
       "[1 rows x 25 columns]"
      ]
     },
     "execution_count": 38,
     "metadata": {},
     "output_type": "execute_result"
    }
   ],
   "source": [
    "%matplotlib inline\n",
    "\n",
    "import pandas as pd\n",
    "import matplotlib.pyplot as plt\n",
    "\n",
    "# import data into dataframe\n",
    "data = pd.read_csv('results-20151107-172000.csv')\n",
    "data[:1]"
   ]
  },
  {
   "cell_type": "code",
   "execution_count": 35,
   "metadata": {
    "collapsed": false
   },
   "outputs": [
    {
     "data": {
      "text/plain": [
       "array([[<matplotlib.axes._subplots.AxesSubplot object at 0x09DDEA90>]], dtype=object)"
      ]
     },
     "execution_count": 35,
     "metadata": {},
     "output_type": "execute_result"
    },
    {
     "data": {
      "image/png": "[encoded data removed]",
      "text/plain": [
       "<matplotlib.figure.Figure at 0x9c62490>"
      ]
     },
     "metadata": {},
     "output_type": "display_data"
    }
   ],
   "source": [
    "# visualize the spread of fare amount\n",
    "pd.DataFrame.hist(data, 'f_fare_amount')\n",
    "\n",
    "# the fare amounts <$20 look questionable"
   ]
  },
  {
   "cell_type": "code",
   "execution_count": 54,
   "metadata": {
    "collapsed": false
   },
   "outputs": [
    {
     "data": {
      "text/plain": [
       "<matplotlib.axes._subplots.AxesSubplot at 0xa046350>"
      ]
     },
     "execution_count": 54,
     "metadata": {},
     "output_type": "execute_result"
    },
    {
     "data": {
      "image/png": "[encoded data removed]",
      "text/plain": [
       "<matplotlib.figure.Figure at 0xa5780f0>"
      ]
     },
     "metadata": {},
     "output_type": "display_data"
    }
   ],
   "source": [
    "# visualize trip time as a function of trip distance\n",
    "ax = data.plot(kind='scatter', x='d_trip_distance', y='d_trip_time_in_secs')\n",
    "\n",
    "# trip distance <10 miles and trip time <1000 sec look questionable\n",
    "xmin, xmax = plt.xlim()\n",
    "ymin, ymax = plt.ylim()\n",
    "plt.plot([xmin, xmax], [1000, 1000], 'r-')\n",
    "plt.plot([10, 10], [ymin, ymax], 'r-')\n",
    "\n",
    "# overlay the points with low fare amounts\n",
    "tmp = data.loc[data['f_fare_amount'] < 20]\n",
    "tmp.plot(kind='scatter', x='d_trip_distance', y='d_trip_time_in_secs', color='red', ax=ax)"
   ]
  },
  {
   "cell_type": "code",
   "execution_count": 47,
   "metadata": {
    "collapsed": false
   },
   "outputs": [
    {
     "data": {
      "text/plain": [
       "<matplotlib.axes._subplots.AxesSubplot at 0x6a94cb0>"
      ]
     },
     "execution_count": 47,
     "metadata": {},
     "output_type": "execute_result"
    },
    {
     "data": {
      "image/png": "[encoded data removed]",
      "text/plain": [
       "<matplotlib.figure.Figure at 0x6a943d0>"
      ]
     },
     "metadata": {},
     "output_type": "display_data"
    }
   ],
   "source": [
    "# lets take another look at the questionable data points\n",
    "questionable = data.loc[(data['f_fare_amount'] < 20) | (data['d_trip_time_in_secs'] < 1000) | (data['d_trip_distance'] < 10)]\n",
    "questionable.plot(kind='scatter', x='d_trip_distance', y='f_fare_amount')"
   ]
  },
  {
   "cell_type": "code",
   "execution_count": 48,
   "metadata": {
    "collapsed": false
   },
   "outputs": [
    {
     "data": {
      "text/plain": [
       "<matplotlib.axes._subplots.AxesSubplot at 0x6b51ed0>"
      ]
     },
     "execution_count": 48,
     "metadata": {},
     "output_type": "execute_result"
    },
    {
     "data": {
      "image/png": "[encoded data removed]",
      "text/plain": [
       "<matplotlib.figure.Figure at 0x6b51c50>"
      ]
     },
     "metadata": {},
     "output_type": "display_data"
    }
   ],
   "source": [
    "# trips with flat fares are fine. let's look at the other data points\n",
    "suspicious = questionable.loc[questionable['f_fare_amount'] < 20]\n",
    "suspicious['f_payment_type'].value_counts().plot(kind='bar')\n",
    "\n",
    "# interesting.. all of the suspicious data points are paid in cash or NOC (what's that?)"
   ]
  },
  {
   "cell_type": "code",
   "execution_count": 90,
   "metadata": {
    "collapsed": false
   },
   "outputs": [
    {
     "data": {
      "text/plain": [
       "<matplotlib.text.Text at 0xb824450>"
      ]
     },
     "execution_count": 90,
     "metadata": {},
     "output_type": "execute_result"
    },
    {
     "data": {
      "image/png": "[encoded data removed]",
      "text/plain": [
       "<matplotlib.figure.Figure at 0xb080fd0>"
      ]
     },
     "metadata": {},
     "output_type": "display_data"
    }
   ],
   "source": [
    "# perhaps number of passengers has some indication\n",
    "suspicious['d_passenger_count'].value_counts().plot(kind='bar')\n",
    "plt.xlabel('passengers')\n",
    "plt.ylabel('frequency')"
   ]
  },
  {
   "cell_type": "code",
   "execution_count": 93,
   "metadata": {
    "collapsed": false
   },
   "outputs": [
    {
     "data": {
      "image/png": "[encoded data removed]",
      "text/plain": [
       "<matplotlib.figure.Figure at 0xbce6870>"
      ]
     },
     "metadata": {},
     "output_type": "display_data"
    }
   ],
   "source": [
    "# perhaps time of day has some indication\n",
    "hours = pd.DatetimeIndex(suspicious['d_pickup_datetime']).hour\n",
    "f = plt.figure()\n",
    "plt.hist(hours, bins=24)\n",
    "plt.show()\n",
    "plt.xlabel('hour of day')\n",
    "plt.ylabel('frequency')"
   ]
  },
  {
   "cell_type": "markdown",
   "metadata": {},
   "source": [
    "next steps:\n",
    "1. get more data from the rest of the peninsula\n",
    "2. find other trends: repeat hack licenses, repeat medallions"
   ]
  }
 ],
 "metadata": {
  "kernelspec": {
   "display_name": "Python 2",
   "language": "python",
   "name": "python2"
  },
  "language_info": {
   "codemirror_mode": {
    "name": "ipython",
    "version": 2
   },
   "file_extension": ".py",
   "mimetype": "text/x-python",
   "name": "python",
   "nbconvert_exporter": "python",
   "pygments_lexer": "ipython2",
   "version": "2.7.6"
  }
 },
 "nbformat": 4,
 "nbformat_minor": 0
}
